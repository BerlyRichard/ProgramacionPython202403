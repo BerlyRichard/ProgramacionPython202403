{
 "cells": [
  {
   "cell_type": "markdown",
   "metadata": {},
   "source": [
    "## Problemas de Ficheros\n",
    "-------------------------"
   ]
  },
  {
   "cell_type": "markdown",
   "metadata": {},
   "source": [
    "### 1.\n",
    "Escribir una función que pida un número entero entre 1 y 10 y guarde en un fichero con el nombre tabla-n.txt la tabla de multiplicar de ese número, done n es el número introducido."
   ]
  },
  {
   "cell_type": "code",
   "execution_count": 2,
   "metadata": {},
   "outputs": [],
   "source": [
    "def tabla_multiplicar():\n",
    "    while True:\n",
    "        try:\n",
    "            numero = int(input(\"Introduce un número entero entre 1 y 10: \"))\n",
    "            if numero < 1 or numero > 10:\n",
    "                print(\"El número debe estar entre 1 y 10. Inténtalo de nuevo.\")\n",
    "                continue\n",
    "            else:\n",
    "                break\n",
    "        except ValueError:\n",
    "            print(\"Por favor, introduce un número entero válido.\")\n",
    "\n",
    "    nombre_fichero = f\"tabla-{numero}.txt\"\n",
    "\n",
    "    with open(nombre_fichero, 'w') as archivo:\n",
    "        for i in range(1, 13):\n",
    "            resultado = numero * i\n",
    "            archivo.write(f\"{numero} x {i} = {resultado}\\n\")\n",
    "\n",
    "    print(f\"La tabla de multiplicar del número {numero} ha sido guardada en el archivo '{nombre_fichero}'.\")"
   ]
  },
  {
   "cell_type": "code",
   "execution_count": 3,
   "metadata": {},
   "outputs": [
    {
     "name": "stdout",
     "output_type": "stream",
     "text": [
      "La tabla de multiplicar del número 6 ha sido guardada en el archivo 'tabla-6.txt'.\n"
     ]
    }
   ],
   "source": [
    "tabla_multiplicar()"
   ]
  },
  {
   "cell_type": "code",
   "execution_count": 4,
   "metadata": {},
   "outputs": [
    {
     "name": "stdout",
     "output_type": "stream",
     "text": [
      "6 x 1 = 6\n",
      "6 x 2 = 12\n",
      "6 x 3 = 18\n",
      "6 x 4 = 24\n",
      "6 x 5 = 30\n",
      "6 x 6 = 36\n",
      "6 x 7 = 42\n",
      "6 x 8 = 48\n",
      "6 x 9 = 54\n",
      "6 x 10 = 60\n",
      "6 x 11 = 66\n",
      "6 x 12 = 72\n",
      "\n"
     ]
    }
   ],
   "source": [
    "numero=6\n",
    "with open(f'tabla-{numero}.txt') as file:\n",
    "    data = file.read()\n",
    "\n",
    "print(data)"
   ]
  },
  {
   "cell_type": "markdown",
   "metadata": {},
   "source": []
  },
  {
   "cell_type": "code",
   "execution_count": 1,
   "metadata": {},
   "outputs": [
    {
     "ename": "SyntaxError",
     "evalue": "invalid syntax (2092206802.py, line 4)",
     "output_type": "error",
     "traceback": [
      "\u001b[0;36m  Cell \u001b[0;32mIn[1], line 4\u001b[0;36m\u001b[0m\n\u001b[0;31m    EN el fichero debemos almacenar:\u001b[0m\n\u001b[0m       ^\u001b[0m\n\u001b[0;31mSyntaxError\u001b[0m\u001b[0;31m:\u001b[0m invalid syntax\n"
     ]
    }
   ],
   "source": [
    "n = 5\n",
    "\n",
    "\n",
    "EN el fichero debemos almacenar:  tabla-5.txt\n",
    "\n",
    "1 x5 = 5\n",
    "2 x5 = 10\n",
    "\n",
    "...\n",
    "\n",
    "12 x 5 = 60\n",
    "\n",
    "\n"
   ]
  },
  {
   "cell_type": "code",
   "execution_count": null,
   "metadata": {},
   "outputs": [],
   "source": []
  },
  {
   "cell_type": "markdown",
   "metadata": {},
   "source": [
    "<h3>2.</h3>\n",
    "Escribir una función que pida un número entero entre 1 y 10, lea el fichero tabla-n.txt con la tabla de multiplicar de ese número, done n es el número introducido, y la muestre por pantalla. Si el fichero no existe debe mostrar un mensaje por pantalla informando de ello."
   ]
  },
  {
   "cell_type": "code",
   "execution_count": null,
   "metadata": {},
   "outputs": [
    {
     "name": "stdout",
     "output_type": "stream",
     "text": [
      "file not found [Errno 2] No such file or directory: 'Myfolder/abc.txt'\n"
     ]
    }
   ],
   "source": [
    "try:\n",
    "    file1 = open(\"Myfolder/abc.txt\")\n",
    " \n",
    "except Exception as e:\n",
    "    print(\"file not found\",e)"
   ]
  },
  {
   "cell_type": "markdown",
   "metadata": {},
   "source": [
    "<h3>3.</h3>\n",
    "\n",
    "Escribir una función que pida dos números n y m entre 1 y 10, lea el fichero tabla-n.txt con la tabla de multiplicar de ese número, y muestre por pantalla la línea m del fichero. Si el fichero no existe debe mostrar un mensaje por pantalla informando de ello."
   ]
  },
  {
   "cell_type": "code",
   "execution_count": null,
   "metadata": {},
   "outputs": [],
   "source": []
  },
  {
   "cell_type": "markdown",
   "metadata": {
    "tags": []
   },
   "source": [
    "## Problemas de Expresiones Regulares\n",
    "---------------------------------------------\n"
   ]
  },
  {
   "cell_type": "code",
   "execution_count": null,
   "metadata": {},
   "outputs": [],
   "source": [
    "from modulo import datos\n",
    "import re"
   ]
  },
  {
   "cell_type": "code",
   "execution_count": null,
   "metadata": {},
   "outputs": [],
   "source": [
    "path = './data/re/short_tweets.csv'"
   ]
  },
  {
   "cell_type": "markdown",
   "metadata": {},
   "source": [
    "<h3>1.</h3>\n",
    "\n",
    "Escriba una expresión regular que encuentre todas las coincidencias que sigan el siguiente patrón.\n",
    "\n",
    "Ej. <code>@robot3!</code>"
   ]
  },
  {
   "cell_type": "code",
   "execution_count": null,
   "metadata": {},
   "outputs": [],
   "source": [
    "# Cadena entrada\n",
    "s = '@robot9! @robot4& I have a good feeling that the show isgoing to be amazing! @robot9$ @robot7%'\n",
    "s"
   ]
  },
  {
   "cell_type": "code",
   "execution_count": null,
   "metadata": {},
   "outputs": [],
   "source": []
  },
  {
   "cell_type": "markdown",
   "metadata": {},
   "source": [
    "<h3>2.</h3>\n",
    "Escriba una expresión regular para cada caso: \n",
    "\n",
    "- todos los usuarios que sigan el siguente patron. <code>User_mentions:9</code>\n",
    "\n",
    "- encuentre los numero de likes: <code>likes: 5</code>\n",
    "\n",
    "- que permita encontrar el numero de retweets. <code>number of retweets: 4</code>"
   ]
  },
  {
   "cell_type": "code",
   "execution_count": null,
   "metadata": {},
   "outputs": [],
   "source": [
    "# Cadena entrada\n",
    "s = \"Unfortunately one of those moments wasn't a giant squid monster. User_mentions:2, likes: 9, number of retweets: 7\"\n",
    "s"
   ]
  },
  {
   "cell_type": "code",
   "execution_count": null,
   "metadata": {},
   "outputs": [],
   "source": []
  },
  {
   "cell_type": "markdown",
   "metadata": {},
   "source": [
    "<h3>3.</h3>\n",
    "\n",
    "Escriba una expresión regular que encuente los nombres de archivos txt en la cadena:\n",
    "\n",
    "    - Nombre de archivo txt siempre inicia al principio de la cadena\n",
    "    - Siempre comienzan con una secuencia de 2 o 3 vocales mayúsculas o minúsculas (a e i o u).\n",
    "    - Ellos siempre terminan con el final del txt.\n",
    "\n"
   ]
  },
  {
   "cell_type": "code",
   "execution_count": null,
   "metadata": {},
   "outputs": [],
   "source": [
    "analisis_sentimientos = datos.read_pandas(path,780,782)"
   ]
  },
  {
   "cell_type": "code",
   "execution_count": null,
   "metadata": {},
   "outputs": [],
   "source": [
    "#regex = r\"\"  # complete aqui\n",
    "for tweet in analisis_sentimientos:\n",
    "    print(tweet)\n",
    "    \n",
    "    # Encuentre todos los casos\n",
    "    #print(re.findall(regex, tweet))"
   ]
  },
  {
   "cell_type": "code",
   "execution_count": null,
   "metadata": {},
   "outputs": [],
   "source": []
  },
  {
   "cell_type": "markdown",
   "metadata": {},
   "source": [
    "<h3>4.</h3>\n",
    "\n",
    "Escriba una expresión regular que valide una lista de correos electrónicos\n",
    "- Primera parte:\n",
    "    - Caracteres en mayuscula y minúscula\n",
    "    - Números\n",
    "    - Caracteres especiales: !, #, %, &, *, $, .\n",
    "- Debe contener @\n",
    "- Dominio:\n",
    "    - Puede ser cualquier conjunto de caracteres\n",
    "    - Solo puede terminar con <code>.com</code>\n",
    "\n",
    "ENTRADA:\n",
    "\n",
    "- ['n.john.smith@gmail.com', '87victory@hotmail.com', '!#mary-=@msca.net']\n",
    "    \n",
    "SALIDA:\n",
    "\n",
    "- The email <code>n.john.smith@gmail.com</code> is a valid email\n",
    "- The email <code>87victory@hotmail.com</code> is a valid email\n",
    "- The email <code>!#mary-=@msca.net</code> is invalid\n",
    "\n",
    "\n",
    "Nota:\n",
    "Solo debe generar la crear la expresión regular"
   ]
  },
  {
   "cell_type": "code",
   "execution_count": null,
   "metadata": {},
   "outputs": [],
   "source": [
    "# Escriba una expresión regular para validar un correo\n",
    "regex = r\"\"\n",
    "\n",
    "emails = ['n.john.smith@gmail.com', '87victory@hotmail.com', '!#mary-=@msca.net']\n",
    "for example in emails:\n",
    "    # Match the regex to the string\n",
    "    if re.match(regex, example):\n",
    "        # Complete the format method to print out the result\n",
    "        print(\"The email {email_example} is a valid email\".format(email_example=example))\n",
    "    else:\n",
    "        print(\"The email {email_example} is invalid\".format(email_example=example))   "
   ]
  }
 ],
 "metadata": {
  "kernelspec": {
   "display_name": "Python 3 (ipykernel)",
   "language": "python",
   "name": "python3"
  },
  "language_info": {
   "codemirror_mode": {
    "name": "ipython",
    "version": 3
   },
   "file_extension": ".py",
   "mimetype": "text/x-python",
   "name": "python",
   "nbconvert_exporter": "python",
   "pygments_lexer": "ipython3",
   "version": "3.10.13"
  }
 },
 "nbformat": 4,
 "nbformat_minor": 4
}
